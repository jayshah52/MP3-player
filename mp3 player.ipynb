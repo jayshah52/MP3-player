{
 "cells": [
  {
   "cell_type": "code",
   "execution_count": 30,
   "metadata": {},
   "outputs": [
    {
     "name": "stdout",
     "output_type": "stream",
     "text": [
      "Mumma-(Mr-Jatt.com).mp3 C:\\Users\\Jay Shah\\Desktop\\python\\mp3\\Mumma-(Mr-Jatt.com).mp3\n"
     ]
    }
   ],
   "source": [
    "from tkinter import *\n",
    "import pygame\n",
    "from tkinter import filedialog\n",
    "import os\n",
    "root = Tk()\n",
    "root.title(\"Music App\")\n",
    "root.geometry(\"800x400\")\n",
    "#initialising pygame mixer\n",
    "pygame.mixer.init()\n",
    "#FUnctions\n",
    "def addsong():\n",
    "    song = filedialog.askopenfilename(title = \"Choose a song\")\n",
    "    #print(directory,song)\n",
    "    #print(song)\n",
    "    songname = os.path.split(song)[1]\n",
    "    directory = os.path.split(song)[0]\n",
    "    #print(os.path.split(song)[0])\n",
    "    #print(songname)\n",
    "    #print(directory)\n",
    "    #print(songname)\n",
    "    playlist.insert(END, songname)\n",
    "    #print(song)\n",
    "\n",
    "def addmultiple():\n",
    "    songs = filedialog.askopenfilenames(title = \"Choose multiple songs\")\n",
    "    for song in songs:\n",
    "        songname = os.path.split(song)[1]\n",
    "        playlist.insert(END, songname)\n",
    "\n",
    "def play():\n",
    "    song = playlist.get(ACTIVE)\n",
    "    songplay = os.path.abspath(song)\n",
    "    print(song,songplay)\n",
    "    #print(type(songplay))\n",
    "    pygame.mixer.music.load(songplay)\n",
    "    pygame.mixer.music.play(loops = 0)#defines the number of times the song will play\n",
    "def stop():\n",
    "    pygame.mixer.music.stop()\n",
    "\n",
    "global paused\n",
    "paused = False\n",
    "def pause(ispaused):\n",
    "    global paused\n",
    "    paused = ispaused\n",
    "    if paused:\n",
    "        pygame.mixer.music.pause()\n",
    "        paused = False\n",
    "    else:\n",
    "        pygame.mixer.music.unpause()\n",
    "        paused = True\n",
    "\n",
    "#Listbox showcasing songs present\n",
    "playlistl = Label(root, text = \"Your Playlist\")\n",
    "playlistl.pack(pady=10)\n",
    "playlist = Listbox(root, bg = \"black\", fg = \"white\", width = 100)\n",
    "playlist.pack(pady=20)\n",
    "\n",
    "#Images for buttons\n",
    "backbtnimg = PhotoImage(file = \"previous.png\")\n",
    "playbtnimg = PhotoImage(file = \"play.png\")\n",
    "pausebtnimg = PhotoImage(file = \"pause.png\")\n",
    "stopbtnimg = PhotoImage(file = \"stop.png\")\n",
    "forwardbtnimg = PhotoImage(file = \"next.png\")\n",
    "\n",
    "#Frame for packing images\n",
    "controlframe= Frame(root)\n",
    "controlframe.pack()\n",
    "\n",
    "#Making buttons for the images\n",
    "backbtn = Button(controlframe, image =backbtnimg, borderwidth = 0)\n",
    "playbtn = Button(controlframe, image =playbtnimg, borderwidth = 0, command = play)\n",
    "pausebtn = Button(controlframe, image =pausebtnimg, borderwidth = 0, command = lambda: pause(paused))\n",
    "stopbtn = Button(controlframe, image =stopbtnimg, borderwidth = 0, command = stop)\n",
    "forwardbtn = Button(controlframe, image =forwardbtnimg, borderwidth = 0)\n",
    "\n",
    "#Packing the images in the control frame\n",
    "backbtn.grid(row = 0, column = 1 )\n",
    "playbtn.grid(row = 0, column = 2)\n",
    "pausebtn.grid(row = 0, column = 3)\n",
    "stopbtn.grid(row = 0, column = 4)\n",
    "forwardbtn.grid(row = 0, column = 5)\n",
    "\n",
    "#Creating a Menu\n",
    "mainmenu = Menu(root)\n",
    "root.config(menu = mainmenu)\n",
    "\n",
    "addsongmenu = Menu(mainmenu)\n",
    "mainmenu.add_cascade(label = \"Add songs\", menu = addsongmenu)\n",
    "addsongmenu.add_command(label = \"Add one song\", command = addsong)\n",
    "addsongmenu.add_command(label=\"Add multiple songs\", command = addmultiple)\n",
    "\n",
    "\n",
    "root.mainloop()"
   ]
  },
  {
   "cell_type": "code",
   "execution_count": 18,
   "metadata": {},
   "outputs": [],
   "source": [
    "import os\n",
    "a = os.walk(\"05 Bhaag Milkha Bhaag.mp3\")\n"
   ]
  },
  {
   "cell_type": "code",
   "execution_count": null,
   "metadata": {},
   "outputs": [],
   "source": []
  },
  {
   "cell_type": "code",
   "execution_count": null,
   "metadata": {},
   "outputs": [],
   "source": []
  }
 ],
 "metadata": {
  "kernelspec": {
   "display_name": "Python 3",
   "language": "python",
   "name": "python3"
  },
  "language_info": {
   "codemirror_mode": {
    "name": "ipython",
    "version": 3
   },
   "file_extension": ".py",
   "mimetype": "text/x-python",
   "name": "python",
   "nbconvert_exporter": "python",
   "pygments_lexer": "ipython3",
   "version": "3.7.3"
  }
 },
 "nbformat": 4,
 "nbformat_minor": 2
}
